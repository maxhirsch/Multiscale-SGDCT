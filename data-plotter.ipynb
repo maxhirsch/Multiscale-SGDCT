{
 "cells": [
  {
   "cell_type": "code",
   "execution_count": null,
   "metadata": {},
   "outputs": [],
   "source": [
    "import numpy as np\n",
    "import numba as nb\n",
    "import matplotlib.pyplot as plt\n",
    "from scipy.special import i0, i1\n",
    "from tqdm import tqdm \n",
    "import sys\n",
    "from pathlib import Path\n",
    "\n",
    "Path(\"./Paper Figures/\").mkdir(parents=True, exist_ok=True)\n",
    "Path(\"./Paper Data/\").mkdir(parents=True, exist_ok=True)\n",
    "\n",
    "params = {'legend.fontsize': 'x-large',\n",
    "         'axes.labelsize': 'x-large',\n",
    "         'axes.titlesize':'x-large',\n",
    "         'xtick.labelsize':'x-large',\n",
    "         'ytick.labelsize':'x-large'}\n",
    "plt.rcParams.update(params)"
   ]
  },
  {
   "cell_type": "code",
   "execution_count": null,
   "metadata": {},
   "outputs": [],
   "source": [
    "epsilon_list = [0.1, 0.25, 0.5]\n",
    "sigma_list = [0.5, 2, 4]"
   ]
  },
  {
   "cell_type": "code",
   "execution_count": null,
   "metadata": {},
   "outputs": [],
   "source": [
    "def V_tilde_prime(x, sigma):\n",
    "    if abs(x) > 2:\n",
    "        return x**3 - x\n",
    "    else:\n",
    "        return (x**3 - x) / i0(x**2 / (2*sigma))**2 + x / i0(x**2 / (2*sigma))**3 * i1(x**2 / (2*sigma))\n",
    "\n",
    "r = 3\n",
    "for j, epsilon in enumerate(epsilon_list):\n",
    "    fig, ax = plt.subplots(1, 3)\n",
    "    for k, sigma in enumerate(sigma_list):\n",
    "        A_new = np.load(f\"./Paper Data/experiment3-ma-42-{j}-{k}.npy\")\n",
    "\n",
    "        x = np.linspace(-2, 2, 500)\n",
    "        ax[k].plot(x, np.sum(A_new[:, None]*np.array([x**i for i in range(r+1)]), axis=0), label=\"Approximation $\\widetilde b$\", linewidth=3, color='C1')\n",
    "        ax[k].plot(x, [V_tilde_prime(xi, sigma) for xi in x], label=\"Exact $b$\", linewidth=3, linestyle='dashed', color='C0')\n",
    "        \n",
    "        ax[k].set_ylim(-5, 5)\n",
    "        if k > 0:\n",
    "            ax[k].set_yticklabels([])\n",
    "        if j < 2:\n",
    "            ax[k].set_xticklabels([])\n",
    "    fig.set_size_inches(7.5, 2)\n",
    "    #plt.savefig(f'./Paper Figures/experiment3-ma-42-{j}.pdf', bbox_inches='tight')\n",
    "    plt.show()"
   ]
  },
  {
   "cell_type": "code",
   "execution_count": null,
   "metadata": {},
   "outputs": [],
   "source": []
  }
 ],
 "metadata": {
  "kernelspec": {
   "display_name": "Python 3",
   "language": "python",
   "name": "python3"
  },
  "language_info": {
   "codemirror_mode": {
    "name": "ipython",
    "version": 3
   },
   "file_extension": ".py",
   "mimetype": "text/x-python",
   "name": "python",
   "nbconvert_exporter": "python",
   "pygments_lexer": "ipython3",
   "version": "3.7.2"
  }
 },
 "nbformat": 4,
 "nbformat_minor": 2
}
